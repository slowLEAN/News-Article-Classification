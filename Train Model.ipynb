import pandas as pd
import re
import joblib
from sklearn.feature_extraction.text import TfidfVectorizer
from sklearn.linear_model import LogisticRegression
from sklearn.model_selection import train_test_split
from nltk.corpus import stopwords
import nltk

nltk.download('stopwords', quiet=True)

real = pd.read_csv("True.csv")
fake = pd.read_csv("Fake.csv")
real['label'] = 0
fake['label'] = 1
df = pd.concat([real, fake]).sample(frac=1).reset_index(drop=True)

def custom_tokenizer(text):
    text = re.sub(r'[^\w\s]', '', text.lower())
    words = text.split()
    stop_words = set(stopwords.words('english'))
    return [w for w in words if w not in stop_words and len(w) > 2]

df['clean_text'] = df['text'].apply(lambda x: ' '.join(custom_tokenizer(x)))

vectorizer = TfidfVectorizer(tokenizer=custom_tokenizer, max_features=5000)
X = vectorizer.fit_transform(df['clean_text'])
y = df['label']

X_train, X_test, y_train, y_test = train_test_split(X, y, test_size=0.2, random_state=42)
model = LogisticRegression(max_iter=1000)
model.fit(X_train, y_train)

joblib.dump(model, 'model.pkl')
joblib.dump(vectorizer, 'vectorizer.pkl')

print("Model training completed successfully!")
